{
  "cells": [
    {
      "cell_type": "markdown",
      "metadata": {
        "id": "view-in-github",
        "colab_type": "text"
      },
      "source": [
        "<a href=\"https://colab.research.google.com/github/ShvetsovEgor/ML/blob/main/hm_linear_models_tasks_2022_fall_(1).ipynb\" target=\"_parent\"><img src=\"https://colab.research.google.com/assets/colab-badge.svg\" alt=\"Open In Colab\"/></a>"
      ]
    },
    {
      "cell_type": "markdown",
      "metadata": {
        "id": "ENfIKzKex7j-"
      },
      "source": [
        "# Домашнее задание - линейная регрессия"
      ]
    },
    {
      "cell_type": "markdown",
      "metadata": {
        "id": "y56aFJZgx7kC"
      },
      "source": [
        "### Работа с признаками (8 баллов)"
      ]
    },
    {
      "cell_type": "markdown",
      "metadata": {
        "id": "SRRx4orux7kD"
      },
      "source": [
        "Скачайте датасет из материалов к уроку или по ссылке https://raw.githubusercontent.com/jupiterzhuo/travel-insurance/master/travel%20insurance.csv \n",
        "\n",
        "\n",
        "Описание признаков:\n",
        "\n",
        "* Agency — название страхового агентства\n",
        "* Agency Type — тип страхового агентства\n",
        "* Distribution Channel — канал продвижения страхового агентства\n",
        "* Product Name — название страхового продукта\n",
        "* Duration — длительность поездки (количество дней)\n",
        "* Destination — направление поездки\n",
        "* Net Sales — сумма продаж \n",
        "* Commission (in value) — комиссия страхового агентства\n",
        "* Gender — пол застрахованного\n",
        "* Age — возраст застрахованного\n",
        "\n",
        "Ответ:\n",
        "* Claim — потребовалась ли страховая выплата: «да» — 1, «нет» — 0"
      ]
    },
    {
      "cell_type": "markdown",
      "metadata": {
        "id": "zOWbJ2q8x7kD"
      },
      "source": [
        "Обработайте пропущенные значения и примените написанные функции onehot_encode() и minmax_scale().\n",
        "\n",
        "**Подсказка**: маску для категориальных признаков можно сделать фильтром cat_features_mask = (df.dtypes == \"object\").values"
      ]
    },
    {
      "cell_type": "code",
      "source": [
        "import pandas as pd"
      ],
      "metadata": {
        "id": "djef9wKUOUSw"
      },
      "execution_count": 173,
      "outputs": []
    },
    {
      "cell_type": "code",
      "execution_count": 174,
      "metadata": {
        "colab": {
          "base_uri": "https://localhost:8080/",
          "height": 424
        },
        "id": "Iz-Qfl4-x7kE",
        "outputId": "c41f94d0-b277-4378-ee26-32f6cc2d700f"
      },
      "outputs": [
        {
          "output_type": "execute_result",
          "data": {
            "text/plain": [
              "      Agency   Agency Type  Distribution Channel  \\\n",
              "1        CBH  Travel Agency              Offline   \n",
              "2        CBH  Travel Agency              Offline   \n",
              "3        CWT  Travel Agency               Online   \n",
              "4        CWT  Travel Agency               Online   \n",
              "5        CWT  Travel Agency               Online   \n",
              "...      ...            ...                  ...   \n",
              "63322    JZI       Airlines               Online   \n",
              "63323    JZI       Airlines               Online   \n",
              "63324    JZI       Airlines               Online   \n",
              "63325    JZI       Airlines               Online   \n",
              "63326    JZI       Airlines               Online   \n",
              "\n",
              "                          Product Name Claim Duration Destination Ne Salesа  \\\n",
              "1                   Comprehensive Plan    No      186    MALAYSIA       -29   \n",
              "2                   Comprehensive Plan    No      186    MALAYSIA       -29   \n",
              "3      Rental Vehicle Excess Insurance    No       65   AUSTRALIA     -49.5   \n",
              "4      Rental Vehicle Excess Insurance    No       60   AUSTRALIA     -39.6   \n",
              "5      Rental Vehicle Excess Insurance    No       79       ITALY     -19.8   \n",
              "...                                ...   ...      ...         ...       ...   \n",
              "63322                       Basic Plan    No      111       JAPAN        35   \n",
              "63323                       Basic Plan    No       58       CHINA        40   \n",
              "63324                       Basic Plan    No        2    MALAYSIA        18   \n",
              "63325                       Basic Plan    No        3    VIET NAM        18   \n",
              "63326                       Basic Plan    No       22   HONG KONG        26   \n",
              "\n",
              "      Commission (in value) Gender Age  \n",
              "1                      9.57      F  81  \n",
              "2                      9.57      F  71  \n",
              "3                      29.7    NaN  32  \n",
              "4                     23.76    NaN  32  \n",
              "5                     11.88    NaN  41  \n",
              "...                     ...    ...  ..  \n",
              "63322                 12.25      M  31  \n",
              "63323                    14      F  40  \n",
              "63324                   6.3      M  57  \n",
              "63325                   6.3      M  63  \n",
              "63326                   9.1      F  35  \n",
              "\n",
              "[63326 rows x 11 columns]"
            ],
            "text/html": [
              "\n",
              "  <div id=\"df-3e0f6974-b68e-4c46-858b-eccbc581d176\">\n",
              "    <div class=\"colab-df-container\">\n",
              "      <div>\n",
              "<style scoped>\n",
              "    .dataframe tbody tr th:only-of-type {\n",
              "        vertical-align: middle;\n",
              "    }\n",
              "\n",
              "    .dataframe tbody tr th {\n",
              "        vertical-align: top;\n",
              "    }\n",
              "\n",
              "    .dataframe thead th {\n",
              "        text-align: right;\n",
              "    }\n",
              "</style>\n",
              "<table border=\"1\" class=\"dataframe\">\n",
              "  <thead>\n",
              "    <tr style=\"text-align: right;\">\n",
              "      <th></th>\n",
              "      <th>Agency</th>\n",
              "      <th>Agency Type</th>\n",
              "      <th>Distribution Channel</th>\n",
              "      <th>Product Name</th>\n",
              "      <th>Claim</th>\n",
              "      <th>Duration</th>\n",
              "      <th>Destination</th>\n",
              "      <th>Ne Salesа</th>\n",
              "      <th>Commission (in value)</th>\n",
              "      <th>Gender</th>\n",
              "      <th>Age</th>\n",
              "    </tr>\n",
              "  </thead>\n",
              "  <tbody>\n",
              "    <tr>\n",
              "      <th>1</th>\n",
              "      <td>CBH</td>\n",
              "      <td>Travel Agency</td>\n",
              "      <td>Offline</td>\n",
              "      <td>Comprehensive Plan</td>\n",
              "      <td>No</td>\n",
              "      <td>186</td>\n",
              "      <td>MALAYSIA</td>\n",
              "      <td>-29</td>\n",
              "      <td>9.57</td>\n",
              "      <td>F</td>\n",
              "      <td>81</td>\n",
              "    </tr>\n",
              "    <tr>\n",
              "      <th>2</th>\n",
              "      <td>CBH</td>\n",
              "      <td>Travel Agency</td>\n",
              "      <td>Offline</td>\n",
              "      <td>Comprehensive Plan</td>\n",
              "      <td>No</td>\n",
              "      <td>186</td>\n",
              "      <td>MALAYSIA</td>\n",
              "      <td>-29</td>\n",
              "      <td>9.57</td>\n",
              "      <td>F</td>\n",
              "      <td>71</td>\n",
              "    </tr>\n",
              "    <tr>\n",
              "      <th>3</th>\n",
              "      <td>CWT</td>\n",
              "      <td>Travel Agency</td>\n",
              "      <td>Online</td>\n",
              "      <td>Rental Vehicle Excess Insurance</td>\n",
              "      <td>No</td>\n",
              "      <td>65</td>\n",
              "      <td>AUSTRALIA</td>\n",
              "      <td>-49.5</td>\n",
              "      <td>29.7</td>\n",
              "      <td>NaN</td>\n",
              "      <td>32</td>\n",
              "    </tr>\n",
              "    <tr>\n",
              "      <th>4</th>\n",
              "      <td>CWT</td>\n",
              "      <td>Travel Agency</td>\n",
              "      <td>Online</td>\n",
              "      <td>Rental Vehicle Excess Insurance</td>\n",
              "      <td>No</td>\n",
              "      <td>60</td>\n",
              "      <td>AUSTRALIA</td>\n",
              "      <td>-39.6</td>\n",
              "      <td>23.76</td>\n",
              "      <td>NaN</td>\n",
              "      <td>32</td>\n",
              "    </tr>\n",
              "    <tr>\n",
              "      <th>5</th>\n",
              "      <td>CWT</td>\n",
              "      <td>Travel Agency</td>\n",
              "      <td>Online</td>\n",
              "      <td>Rental Vehicle Excess Insurance</td>\n",
              "      <td>No</td>\n",
              "      <td>79</td>\n",
              "      <td>ITALY</td>\n",
              "      <td>-19.8</td>\n",
              "      <td>11.88</td>\n",
              "      <td>NaN</td>\n",
              "      <td>41</td>\n",
              "    </tr>\n",
              "    <tr>\n",
              "      <th>...</th>\n",
              "      <td>...</td>\n",
              "      <td>...</td>\n",
              "      <td>...</td>\n",
              "      <td>...</td>\n",
              "      <td>...</td>\n",
              "      <td>...</td>\n",
              "      <td>...</td>\n",
              "      <td>...</td>\n",
              "      <td>...</td>\n",
              "      <td>...</td>\n",
              "      <td>...</td>\n",
              "    </tr>\n",
              "    <tr>\n",
              "      <th>63322</th>\n",
              "      <td>JZI</td>\n",
              "      <td>Airlines</td>\n",
              "      <td>Online</td>\n",
              "      <td>Basic Plan</td>\n",
              "      <td>No</td>\n",
              "      <td>111</td>\n",
              "      <td>JAPAN</td>\n",
              "      <td>35</td>\n",
              "      <td>12.25</td>\n",
              "      <td>M</td>\n",
              "      <td>31</td>\n",
              "    </tr>\n",
              "    <tr>\n",
              "      <th>63323</th>\n",
              "      <td>JZI</td>\n",
              "      <td>Airlines</td>\n",
              "      <td>Online</td>\n",
              "      <td>Basic Plan</td>\n",
              "      <td>No</td>\n",
              "      <td>58</td>\n",
              "      <td>CHINA</td>\n",
              "      <td>40</td>\n",
              "      <td>14</td>\n",
              "      <td>F</td>\n",
              "      <td>40</td>\n",
              "    </tr>\n",
              "    <tr>\n",
              "      <th>63324</th>\n",
              "      <td>JZI</td>\n",
              "      <td>Airlines</td>\n",
              "      <td>Online</td>\n",
              "      <td>Basic Plan</td>\n",
              "      <td>No</td>\n",
              "      <td>2</td>\n",
              "      <td>MALAYSIA</td>\n",
              "      <td>18</td>\n",
              "      <td>6.3</td>\n",
              "      <td>M</td>\n",
              "      <td>57</td>\n",
              "    </tr>\n",
              "    <tr>\n",
              "      <th>63325</th>\n",
              "      <td>JZI</td>\n",
              "      <td>Airlines</td>\n",
              "      <td>Online</td>\n",
              "      <td>Basic Plan</td>\n",
              "      <td>No</td>\n",
              "      <td>3</td>\n",
              "      <td>VIET NAM</td>\n",
              "      <td>18</td>\n",
              "      <td>6.3</td>\n",
              "      <td>M</td>\n",
              "      <td>63</td>\n",
              "    </tr>\n",
              "    <tr>\n",
              "      <th>63326</th>\n",
              "      <td>JZI</td>\n",
              "      <td>Airlines</td>\n",
              "      <td>Online</td>\n",
              "      <td>Basic Plan</td>\n",
              "      <td>No</td>\n",
              "      <td>22</td>\n",
              "      <td>HONG KONG</td>\n",
              "      <td>26</td>\n",
              "      <td>9.1</td>\n",
              "      <td>F</td>\n",
              "      <td>35</td>\n",
              "    </tr>\n",
              "  </tbody>\n",
              "</table>\n",
              "<p>63326 rows × 11 columns</p>\n",
              "</div>\n",
              "      <button class=\"colab-df-convert\" onclick=\"convertToInteractive('df-3e0f6974-b68e-4c46-858b-eccbc581d176')\"\n",
              "              title=\"Convert this dataframe to an interactive table.\"\n",
              "              style=\"display:none;\">\n",
              "        \n",
              "  <svg xmlns=\"http://www.w3.org/2000/svg\" height=\"24px\"viewBox=\"0 0 24 24\"\n",
              "       width=\"24px\">\n",
              "    <path d=\"M0 0h24v24H0V0z\" fill=\"none\"/>\n",
              "    <path d=\"M18.56 5.44l.94 2.06.94-2.06 2.06-.94-2.06-.94-.94-2.06-.94 2.06-2.06.94zm-11 1L8.5 8.5l.94-2.06 2.06-.94-2.06-.94L8.5 2.5l-.94 2.06-2.06.94zm10 10l.94 2.06.94-2.06 2.06-.94-2.06-.94-.94-2.06-.94 2.06-2.06.94z\"/><path d=\"M17.41 7.96l-1.37-1.37c-.4-.4-.92-.59-1.43-.59-.52 0-1.04.2-1.43.59L10.3 9.45l-7.72 7.72c-.78.78-.78 2.05 0 2.83L4 21.41c.39.39.9.59 1.41.59.51 0 1.02-.2 1.41-.59l7.78-7.78 2.81-2.81c.8-.78.8-2.07 0-2.86zM5.41 20L4 18.59l7.72-7.72 1.47 1.35L5.41 20z\"/>\n",
              "  </svg>\n",
              "      </button>\n",
              "      \n",
              "  <style>\n",
              "    .colab-df-container {\n",
              "      display:flex;\n",
              "      flex-wrap:wrap;\n",
              "      gap: 12px;\n",
              "    }\n",
              "\n",
              "    .colab-df-convert {\n",
              "      background-color: #E8F0FE;\n",
              "      border: none;\n",
              "      border-radius: 50%;\n",
              "      cursor: pointer;\n",
              "      display: none;\n",
              "      fill: #1967D2;\n",
              "      height: 32px;\n",
              "      padding: 0 0 0 0;\n",
              "      width: 32px;\n",
              "    }\n",
              "\n",
              "    .colab-df-convert:hover {\n",
              "      background-color: #E2EBFA;\n",
              "      box-shadow: 0px 1px 2px rgba(60, 64, 67, 0.3), 0px 1px 3px 1px rgba(60, 64, 67, 0.15);\n",
              "      fill: #174EA6;\n",
              "    }\n",
              "\n",
              "    [theme=dark] .colab-df-convert {\n",
              "      background-color: #3B4455;\n",
              "      fill: #D2E3FC;\n",
              "    }\n",
              "\n",
              "    [theme=dark] .colab-df-convert:hover {\n",
              "      background-color: #434B5C;\n",
              "      box-shadow: 0px 1px 3px 1px rgba(0, 0, 0, 0.15);\n",
              "      filter: drop-shadow(0px 1px 2px rgba(0, 0, 0, 0.3));\n",
              "      fill: #FFFFFF;\n",
              "    }\n",
              "  </style>\n",
              "\n",
              "      <script>\n",
              "        const buttonEl =\n",
              "          document.querySelector('#df-3e0f6974-b68e-4c46-858b-eccbc581d176 button.colab-df-convert');\n",
              "        buttonEl.style.display =\n",
              "          google.colab.kernel.accessAllowed ? 'block' : 'none';\n",
              "\n",
              "        async function convertToInteractive(key) {\n",
              "          const element = document.querySelector('#df-3e0f6974-b68e-4c46-858b-eccbc581d176');\n",
              "          const dataTable =\n",
              "            await google.colab.kernel.invokeFunction('convertToInteractive',\n",
              "                                                     [key], {});\n",
              "          if (!dataTable) return;\n",
              "\n",
              "          const docLinkHtml = 'Like what you see? Visit the ' +\n",
              "            '<a target=\"_blank\" href=https://colab.research.google.com/notebooks/data_table.ipynb>data table notebook</a>'\n",
              "            + ' to learn more about interactive tables.';\n",
              "          element.innerHTML = '';\n",
              "          dataTable['output_type'] = 'display_data';\n",
              "          await google.colab.output.renderOutput(dataTable, element);\n",
              "          const docLink = document.createElement('div');\n",
              "          docLink.innerHTML = docLinkHtml;\n",
              "          element.appendChild(docLink);\n",
              "        }\n",
              "      </script>\n",
              "    </div>\n",
              "  </div>\n",
              "  "
            ]
          },
          "metadata": {},
          "execution_count": 174
        }
      ],
      "source": [
        "\n",
        "df = pd.read_csv(\"https://raw.githubusercontent.com/jupiterzhuo/travel-insurance/master/travel%20insurance.csv\", \\\n",
        "                    header=None, na_values=[\"?\"], names=['Agency',\n",
        "                                                        'Agency Type ',\n",
        "                                                        'Distribution Channel',\n",
        "                                                        'Product Name',\n",
        "                                                        'Claim',\n",
        "                                                        'Duration',\n",
        "                                                        'Destination',\n",
        "                                                        'Ne Salesа',\n",
        "                                                        'Commission (in value)',\n",
        "                                                        'Gender',\n",
        "                                                        'Age'])\n",
        "df.drop(index=df.index [0], axis= 0 , inplace= True )\n",
        "df"
      ]
    },
    {
      "cell_type": "code",
      "source": [
        "df = df.fillna(\"F\", limit=int(df.isnull().sum()[9] // 2))\n",
        "df = df.fillna(\"M\", limit=int(df.isnull().sum()[9] // 2))\n",
        "df['Duration'] = df['Duration'].astype(int)\n",
        "df['Ne Salesа'] = df['Ne Salesа'].astype(float)\n",
        "df['Commission (in value)'] = df['Commission (in value)'].astype(float)\n",
        "df['Age'] = df['Age'].astype(int)\n",
        "df = df.loc[((df['Duration'] > 0) & (df['Duration'] < 1000))]\n",
        "Y = np.where(df['Claim'] == 'Yes', 1,0)\n",
        "df = df[[\"Duration\", \"Ne Salesа\", \"Commission (in value)\", \"Age\"]]\n",
        "\n",
        "\n",
        "\n",
        "df.info()\n"
      ],
      "metadata": {
        "colab": {
          "base_uri": "https://localhost:8080/"
        },
        "id": "enfoB9viPPbN",
        "outputId": "d24a34c7-a06f-4069-eebc-18d2471ddc71"
      },
      "execution_count": 177,
      "outputs": [
        {
          "output_type": "stream",
          "name": "stdout",
          "text": [
            "<class 'pandas.core.frame.DataFrame'>\n",
            "Int64Index: 63246 entries, 1 to 63326\n",
            "Data columns (total 4 columns):\n",
            " #   Column                 Non-Null Count  Dtype  \n",
            "---  ------                 --------------  -----  \n",
            " 0   Duration               63246 non-null  int64  \n",
            " 1   Ne Salesа              63246 non-null  float64\n",
            " 2   Commission (in value)  63246 non-null  float64\n",
            " 3   Age                    63246 non-null  int64  \n",
            "dtypes: float64(2), int64(2)\n",
            "memory usage: 2.4 MB\n"
          ]
        }
      ]
    },
    {
      "cell_type": "code",
      "source": [
        "import matplotlib.pyplot as plt\n",
        "plt.figure(figsize=(5, 3))\n",
        "plt.hist(df[\"Duration\"], bins=10)\n",
        "plt.show()\n"
      ],
      "metadata": {
        "colab": {
          "base_uri": "https://localhost:8080/",
          "height": 291
        },
        "id": "qSJicedpxNFO",
        "outputId": "67abb0c1-9cb3-4641-88f9-b1c5930990d8"
      },
      "execution_count": 178,
      "outputs": [
        {
          "output_type": "display_data",
          "data": {
            "text/plain": [
              "<Figure size 500x300 with 1 Axes>"
            ],
            "image/png": "[encoded data removed]"
          },
          "metadata": {}
        }
      ]
    },
    {
      "cell_type": "code",
      "source": [
        "import numpy as np\n",
        "\n",
        "\n",
        "def minmax_scale(X):\n",
        "    a, b = X.max(axis=0), X.min(axis=0)\n",
        "    if (a == b).all():\n",
        "        x_std = X * 0.\n",
        "    else:\n",
        "        x_std = (X - X.min(axis=0)) / (X.max(axis=0) - X.min(axis=0))\n",
        "    return x_std"
      ],
      "metadata": {
        "id": "C7-i3G6ZR9PG"
      },
      "execution_count": 180,
      "outputs": []
    },
    {
      "cell_type": "code",
      "source": [
        "df = minmax_scale(df)\n",
        "df"
      ],
      "metadata": {
        "colab": {
          "base_uri": "https://localhost:8080/",
          "height": 424
        },
        "id": "tALckX3LvP5U",
        "outputId": "092e76c9-4f20-49ad-8e15-24ec34cb8057"
      },
      "execution_count": 181,
      "outputs": [
        {
          "output_type": "execute_result",
          "data": {
            "text/plain": [
              "       Duration  Ne Salesа  Commission (in value)       Age\n",
              "1      0.250338   0.300250               0.033757  0.686441\n",
              "2      0.250338   0.300250               0.033757  0.601695\n",
              "3      0.086604   0.283153               0.104762  0.271186\n",
              "4      0.079838   0.291410               0.083810  0.271186\n",
              "5      0.105548   0.307923               0.041905  0.347458\n",
              "...         ...        ...                    ...       ...\n",
              "63322  0.148850   0.353628               0.043210  0.262712\n",
              "63323  0.077131   0.357798               0.049383  0.338983\n",
              "63324  0.001353   0.339450               0.022222  0.483051\n",
              "63325  0.002706   0.339450               0.022222  0.533898\n",
              "63326  0.028417   0.346122               0.032099  0.296610\n",
              "\n",
              "[63246 rows x 4 columns]"
            ],
            "text/html": [
              "\n",
              "  <div id=\"df-16c34abc-7d56-42dd-a3c9-86b380e94a61\">\n",
              "    <div class=\"colab-df-container\">\n",
              "      <div>\n",
              "<style scoped>\n",
              "    .dataframe tbody tr th:only-of-type {\n",
              "        vertical-align: middle;\n",
              "    }\n",
              "\n",
              "    .dataframe tbody tr th {\n",
              "        vertical-align: top;\n",
              "    }\n",
              "\n",
              "    .dataframe thead th {\n",
              "        text-align: right;\n",
              "    }\n",
              "</style>\n",
              "<table border=\"1\" class=\"dataframe\">\n",
              "  <thead>\n",
              "    <tr style=\"text-align: right;\">\n",
              "      <th></th>\n",
              "      <th>Duration</th>\n",
              "      <th>Ne Salesа</th>\n",
              "      <th>Commission (in value)</th>\n",
              "      <th>Age</th>\n",
              "    </tr>\n",
              "  </thead>\n",
              "  <tbody>\n",
              "    <tr>\n",
              "      <th>1</th>\n",
              "      <td>0.250338</td>\n",
              "      <td>0.300250</td>\n",
              "      <td>0.033757</td>\n",
              "      <td>0.686441</td>\n",
              "    </tr>\n",
              "    <tr>\n",
              "      <th>2</th>\n",
              "      <td>0.250338</td>\n",
              "      <td>0.300250</td>\n",
              "      <td>0.033757</td>\n",
              "      <td>0.601695</td>\n",
              "    </tr>\n",
              "    <tr>\n",
              "      <th>3</th>\n",
              "      <td>0.086604</td>\n",
              "      <td>0.283153</td>\n",
              "      <td>0.104762</td>\n",
              "      <td>0.271186</td>\n",
              "    </tr>\n",
              "    <tr>\n",
              "      <th>4</th>\n",
              "      <td>0.079838</td>\n",
              "      <td>0.291410</td>\n",
              "      <td>0.083810</td>\n",
              "      <td>0.271186</td>\n",
              "    </tr>\n",
              "    <tr>\n",
              "      <th>5</th>\n",
              "      <td>0.105548</td>\n",
              "      <td>0.307923</td>\n",
              "      <td>0.041905</td>\n",
              "      <td>0.347458</td>\n",
              "    </tr>\n",
              "    <tr>\n",
              "      <th>...</th>\n",
              "      <td>...</td>\n",
              "      <td>...</td>\n",
              "      <td>...</td>\n",
              "      <td>...</td>\n",
              "    </tr>\n",
              "    <tr>\n",
              "      <th>63322</th>\n",
              "      <td>0.148850</td>\n",
              "      <td>0.353628</td>\n",
              "      <td>0.043210</td>\n",
              "      <td>0.262712</td>\n",
              "    </tr>\n",
              "    <tr>\n",
              "      <th>63323</th>\n",
              "      <td>0.077131</td>\n",
              "      <td>0.357798</td>\n",
              "      <td>0.049383</td>\n",
              "      <td>0.338983</td>\n",
              "    </tr>\n",
              "    <tr>\n",
              "      <th>63324</th>\n",
              "      <td>0.001353</td>\n",
              "      <td>0.339450</td>\n",
              "      <td>0.022222</td>\n",
              "      <td>0.483051</td>\n",
              "    </tr>\n",
              "    <tr>\n",
              "      <th>63325</th>\n",
              "      <td>0.002706</td>\n",
              "      <td>0.339450</td>\n",
              "      <td>0.022222</td>\n",
              "      <td>0.533898</td>\n",
              "    </tr>\n",
              "    <tr>\n",
              "      <th>63326</th>\n",
              "      <td>0.028417</td>\n",
              "      <td>0.346122</td>\n",
              "      <td>0.032099</td>\n",
              "      <td>0.296610</td>\n",
              "    </tr>\n",
              "  </tbody>\n",
              "</table>\n",
              "<p>63246 rows × 4 columns</p>\n",
              "</div>\n",
              "      <button class=\"colab-df-convert\" onclick=\"convertToInteractive('df-16c34abc-7d56-42dd-a3c9-86b380e94a61')\"\n",
              "              title=\"Convert this dataframe to an interactive table.\"\n",
              "              style=\"display:none;\">\n",
              "        \n",
              "  <svg xmlns=\"http://www.w3.org/2000/svg\" height=\"24px\"viewBox=\"0 0 24 24\"\n",
              "       width=\"24px\">\n",
              "    <path d=\"M0 0h24v24H0V0z\" fill=\"none\"/>\n",
              "    <path d=\"M18.56 5.44l.94 2.06.94-2.06 2.06-.94-2.06-.94-.94-2.06-.94 2.06-2.06.94zm-11 1L8.5 8.5l.94-2.06 2.06-.94-2.06-.94L8.5 2.5l-.94 2.06-2.06.94zm10 10l.94 2.06.94-2.06 2.06-.94-2.06-.94-.94-2.06-.94 2.06-2.06.94z\"/><path d=\"M17.41 7.96l-1.37-1.37c-.4-.4-.92-.59-1.43-.59-.52 0-1.04.2-1.43.59L10.3 9.45l-7.72 7.72c-.78.78-.78 2.05 0 2.83L4 21.41c.39.39.9.59 1.41.59.51 0 1.02-.2 1.41-.59l7.78-7.78 2.81-2.81c.8-.78.8-2.07 0-2.86zM5.41 20L4 18.59l7.72-7.72 1.47 1.35L5.41 20z\"/>\n",
              "  </svg>\n",
              "      </button>\n",
              "      \n",
              "  <style>\n",
              "    .colab-df-container {\n",
              "      display:flex;\n",
              "      flex-wrap:wrap;\n",
              "      gap: 12px;\n",
              "    }\n",
              "\n",
              "    .colab-df-convert {\n",
              "      background-color: #E8F0FE;\n",
              "      border: none;\n",
              "      border-radius: 50%;\n",
              "      cursor: pointer;\n",
              "      display: none;\n",
              "      fill: #1967D2;\n",
              "      height: 32px;\n",
              "      padding: 0 0 0 0;\n",
              "      width: 32px;\n",
              "    }\n",
              "\n",
              "    .colab-df-convert:hover {\n",
              "      background-color: #E2EBFA;\n",
              "      box-shadow: 0px 1px 2px rgba(60, 64, 67, 0.3), 0px 1px 3px 1px rgba(60, 64, 67, 0.15);\n",
              "      fill: #174EA6;\n",
              "    }\n",
              "\n",
              "    [theme=dark] .colab-df-convert {\n",
              "      background-color: #3B4455;\n",
              "      fill: #D2E3FC;\n",
              "    }\n",
              "\n",
              "    [theme=dark] .colab-df-convert:hover {\n",
              "      background-color: #434B5C;\n",
              "      box-shadow: 0px 1px 3px 1px rgba(0, 0, 0, 0.15);\n",
              "      filter: drop-shadow(0px 1px 2px rgba(0, 0, 0, 0.3));\n",
              "      fill: #FFFFFF;\n",
              "    }\n",
              "  </style>\n",
              "\n",
              "      <script>\n",
              "        const buttonEl =\n",
              "          document.querySelector('#df-16c34abc-7d56-42dd-a3c9-86b380e94a61 button.colab-df-convert');\n",
              "        buttonEl.style.display =\n",
              "          google.colab.kernel.accessAllowed ? 'block' : 'none';\n",
              "\n",
              "        async function convertToInteractive(key) {\n",
              "          const element = document.querySelector('#df-16c34abc-7d56-42dd-a3c9-86b380e94a61');\n",
              "          const dataTable =\n",
              "            await google.colab.kernel.invokeFunction('convertToInteractive',\n",
              "                                                     [key], {});\n",
              "          if (!dataTable) return;\n",
              "\n",
              "          const docLinkHtml = 'Like what you see? Visit the ' +\n",
              "            '<a target=\"_blank\" href=https://colab.research.google.com/notebooks/data_table.ipynb>data table notebook</a>'\n",
              "            + ' to learn more about interactive tables.';\n",
              "          element.innerHTML = '';\n",
              "          dataTable['output_type'] = 'display_data';\n",
              "          await google.colab.output.renderOutput(dataTable, element);\n",
              "          const docLink = document.createElement('div');\n",
              "          docLink.innerHTML = docLinkHtml;\n",
              "          element.appendChild(docLink);\n",
              "        }\n",
              "      </script>\n",
              "    </div>\n",
              "  </div>\n",
              "  "
            ]
          },
          "metadata": {},
          "execution_count": 181
        }
      ]
    },
    {
      "cell_type": "markdown",
      "metadata": {
        "id": "Fbo2BuYQx7kE"
      },
      "source": [
        "Подробный анализ и подготовка датасета часто помогают улучшить качество модели. Ниже представлено несколько идей преобразований. Вы можете применить одно или несколько из этих преобразований (а можете не применять), чтобы помочь будущей модели. \n",
        "\n",
        "1. *Посмотрите* *на количественные признаки. Возможно, в некоторых признаках есть выбросы - значения, которые сильно выбиваются. Такие значения полезно удалять. Советуем присмотреться к колонке Duration)*\n",
        "\n",
        "2.*Можно заметить, что one hot encoding сильно раздувает количество столбцов. Радикальное решение - можно попробовать выбросить все категориальные признаки из датасета.*\n",
        "\n",
        "3. Если все-таки оставляете категориальные признаки, то подумайте, как уменьшить количество столбцов после one hot encoding. Признаки с большим количеством значений (Duration - 149! разных стран) можно удалить или попробовать сгруппировать некоторые значения.\n",
        "\n",
        "4. Downsampling. Датасет достаточно большой, разница в классах огромная. Можно уменьшить число наблюдений с частым ответом."
      ]
    },
    {
      "cell_type": "markdown",
      "metadata": {
        "id": "wrU_x_uYx7kF"
      },
      "source": [
        "### Применение линейной регрессии (10 баллов)"
      ]
    },
    {
      "cell_type": "markdown",
      "metadata": {
        "id": "qiwHM6J_x7kG"
      },
      "source": [
        "Это задача классификации, но её можно решить с помощью линейной регрессии, если округлять предсказанный ответ до целого и выбирать ближайший по значению ответ из множества {0, 1}.\n",
        "\n",
        "Вынесите признак 'Claim' в вектор ответов и разделите датасет на обучающую и тестовую выборку в соотношении 80 к 20. Зафиксируйте random_state.\n",
        "\n",
        "**Подсказка:** быстро перевести Yes/No в 1/0 можно так - np.where(df['Claim'] == 'Yes', 1,0)"
      ]
    },
    {
      "cell_type": "code",
      "source": [
        "from sklearn.metrics import mean_squared_error, mean_absolute_error\n",
        "from sklearn.model_selection import train_test_split"
      ],
      "metadata": {
        "id": "OXJQK-Gx6sg2"
      },
      "execution_count": 171,
      "outputs": []
    },
    {
      "cell_type": "code",
      "execution_count": 182,
      "metadata": {
        "id": "BR2ai19ex7kG"
      },
      "outputs": [],
      "source": [
        "# разделение на test/train\n",
        "X = df\n",
        "X_train, X_test, y_train, y_test = train_test_split(X, Y, train_size=0.8)"
      ]
    },
    {
      "cell_type": "markdown",
      "metadata": {
        "id": "Smm17nRUx7kG"
      },
      "source": [
        "Найдите аналитическое решение для обучающей выборки: обычное и регуляризацией l2. <br>\n",
        "Аналитическое решение <br>\n",
        "$$w^* = (X^TX)^{-1}X^Ty$$<br>\n",
        "Аналитическое решение с L2 регуляризацией<br>\n",
        "$$\\hat{w} = (X^TX + \\lambda^2E)^{-1}X^Ty$$"
      ]
    },
    {
      "cell_type": "code",
      "execution_count": 183,
      "metadata": {
        "colab": {
          "base_uri": "https://localhost:8080/"
        },
        "id": "Z03IK3A-x7kH",
        "outputId": "55a9fb79-32f5-4887-dd72-2b3e1b6fbfc9"
      },
      "outputs": [
        {
          "output_type": "execute_result",
          "data": {
            "text/plain": [
              "array([ 0.07951684,  0.05294671,  0.09985549, -0.03639051])"
            ]
          },
          "metadata": {},
          "execution_count": 183
        }
      ],
      "source": [
        "y = y_train\n",
        "value = np.dot(np.dot(np.linalg.inv(np.dot(X_train.T, X_train)), X_train.T), y)\n",
        "value"
      ]
    },
    {
      "cell_type": "code",
      "execution_count": 184,
      "metadata": {
        "colab": {
          "base_uri": "https://localhost:8080/"
        },
        "id": "zfm3Gr9fx7kH",
        "outputId": "cbcb204e-5799-402b-90dc-ab52e8c16179"
      },
      "outputs": [
        {
          "output_type": "execute_result",
          "data": {
            "text/plain": [
              "0    0.079509\n",
              "1    0.052896\n",
              "2    0.099463\n",
              "3   -0.036297\n",
              "dtype: float64"
            ]
          },
          "metadata": {},
          "execution_count": 184
        }
      ],
      "source": [
        "# посчитать аналитическое решение с регуляризацией\n",
        "lambda_ = 1\n",
        "n, k = X.shape\n",
        "E = np.eye(k)\n",
        "value_l2 = np.linalg.inv(X_train.T @ X_train + lambda_ * lambda_ * E) @ X_train.T @ y\n",
        "value_l2"
      ]
    },
    {
      "cell_type": "markdown",
      "metadata": {
        "id": "qbiyJAAKx7kH"
      },
      "source": [
        "Постройте модель LinearRegression, примените к тестовой выборке и посчитайте MSE (можно использовать библиотеку sklearn)"
      ]
    },
    {
      "cell_type": "code",
      "execution_count": 190,
      "metadata": {
        "colab": {
          "base_uri": "https://localhost:8080/"
        },
        "id": "2lV4ujCPx7kH",
        "outputId": "36e24d71-6d30-4314-cde2-02d826eeaf17"
      },
      "outputs": [
        {
          "output_type": "stream",
          "name": "stdout",
          "text": [
            "[0.00630356 0.08735776 0.01374819 ... 0.02538752 0.01053846 0.07281152]\n",
            "[0. 0. 0. ... 0. 0. 0.]\n"
          ]
        }
      ],
      "source": [
        "# обучите модель линейной регрессии LinearRegression на обучающей выборке, примените к тестовой\n",
        "from sklearn.linear_model import LinearRegression\n",
        "lr = LinearRegression()\n",
        "lr.fit(X_train, y_train)\n",
        "pred = lr.predict(X_test)\n",
        "predict = pred.round()\n",
        "\n",
        "print(pred)\n",
        "print(predict)"
      ]
    },
    {
      "cell_type": "code",
      "execution_count": 191,
      "metadata": {
        "colab": {
          "base_uri": "https://localhost:8080/"
        },
        "id": "rfJBJdsWx7kI",
        "outputId": "9cf01732-7ab7-419c-baa7-5c1c9c61a0b9"
      },
      "outputs": [
        {
          "output_type": "execute_result",
          "data": {
            "text/plain": [
              "0.014782608695652174"
            ]
          },
          "metadata": {},
          "execution_count": 191
        }
      ],
      "source": [
        "# посчитайте MSE, предварительно округлив предсказанные ответы до целого\n",
        "mse = mean_squared_error(y_test, predict)\n",
        "mse"
      ]
    },
    {
      "cell_type": "markdown",
      "metadata": {
        "id": "667Sg-ojx7kI"
      },
      "source": [
        "### Вывод (1 балла)"
      ]
    },
    {
      "cell_type": "markdown",
      "metadata": {
        "id": "IdyyBHsGx7kJ"
      },
      "source": [
        "Напишите краткий вывод по заданию (достаточно пары предложений). Расскажите, какие способы предобработки данных вы выбрали и почему. Насколько хороша ваша модель?"
      ]
    },
    {
      "cell_type": "markdown",
      "source": [
        "## Изучив датасет, я принял решение убрать категорийные признаки, так как они порождали за собой большое количество столбцов. Для оставшихся числовых признаков применил масштабирование MinMaxScaler, предварительно убрав объекты, выделяющиеся от остальных по фиче Duration "
      ],
      "metadata": {
        "id": "AQHsl-vt937y"
      }
    }
  ],
  "metadata": {
    "colab": {
      "provenance": [],
      "include_colab_link": true
    },
    "kernelspec": {
      "display_name": "Python 3",
      "language": "python",
      "name": "python3"
    },
    "language_info": {
      "codemirror_mode": {
        "name": "ipython",
        "version": 3
      },
      "file_extension": ".py",
      "mimetype": "text/x-python",
      "name": "python",
      "nbconvert_exporter": "python",
      "pygments_lexer": "ipython3",
      "version": "3.8.5"
    }
  },
  "nbformat": 4,
  "nbformat_minor": 0
}